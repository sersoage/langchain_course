{
 "cells": [
  {
   "cell_type": "markdown",
   "id": "76e7f19a",
   "metadata": {},
   "source": [
    "# Review\n",
    "\n",
    "Recall last time we discussed document loading."
   ]
  },
  {
   "cell_type": "code",
   "execution_count": null,
   "id": "e854ad15",
   "metadata": {},
   "outputs": [],
   "source": [
    "from langchain.document_loaders import PyPDFLoader\n",
    "loader = PyPDFLoader(\"docs/MachineLearning-Lecture01.pdf\")\n",
    "pages = loader.load()"
   ]
  },
  {
   "cell_type": "code",
   "execution_count": null,
   "id": "da5dc327",
   "metadata": {},
   "outputs": [],
   "source": [
    "from langchain.document_loaders import TextLoader\n",
    "loader = TextLoader('docs/cs229_lecture1_whisper_transcript.txt', encoding='utf8')\n",
    "text = loader.load()"
   ]
  },
  {
   "cell_type": "markdown",
   "id": "68f720db",
   "metadata": {},
   "source": [
    "# Text splitting\n",
    "\n",
    "LLMs have limited context windows, meaning a limited prompt length can be passed into the model.\n",
    "\n",
    "At the larger end, Anthropic's Claude model has a 100k token context windw.\n",
    " \n",
    "But, ChatGPT (gpt-3.5) only has 4096 tokens.\n",
    "\n",
    "Tokens are often [~4 charecters](https://help.openai.com/en/articles/4936856-what-are-tokens-and-how-to-count-them).\n",
    "\n",
    "So, let's have a look at the PDF we loaded to check!"
   ]
  },
  {
   "cell_type": "code",
   "execution_count": null,
   "id": "8dc96cd2",
   "metadata": {},
   "outputs": [],
   "source": [
    "all_page_text=[p.page_content for p in pages]\n",
    "joined_page_text=\" \".join(all_page_text)\n",
    "print(len(joined_page_text)/4)"
   ]
  },
  {
   "cell_type": "code",
   "execution_count": null,
   "id": "17c875da",
   "metadata": {},
   "outputs": [],
   "source": [
    "print(len(text[0].page_content)/4)"
   ]
  },
  {
   "cell_type": "code",
   "execution_count": null,
   "id": "c107da05",
   "metadata": {},
   "outputs": [],
   "source": [
    "from langchain.text_splitter import RecursiveCharacterTextSplitter\n",
    "chunk_size = 1000\n",
    "chunk_overlap = 150\n",
    "text_splitter = RecursiveCharacterTextSplitter(chunk_size,chunk_overlap)"
   ]
  },
  {
   "cell_type": "markdown",
   "id": "cbc89f8c",
   "metadata": {},
   "source": [
    "Note that we define two important parameters:\n",
    "    \n",
    "`chunk_size = 1500`\n",
    "\n",
    "`chunk_overlap = 150`\n",
    "\n",
    "These are the length of each chunk (in charecters) and the overlap between them.\n",
    "\n",
    "Let's try it!"
   ]
  },
  {
   "cell_type": "code",
   "execution_count": null,
   "id": "8d94e7e0",
   "metadata": {},
   "outputs": [],
   "source": [
    "splits = text_splitter.split_text(text[0].page_content)\n",
    "print(len(splits))\n",
    "print(len(splits[0]))"
   ]
  },
  {
   "cell_type": "markdown",
   "id": "95de437b",
   "metadata": {},
   "source": [
    "Good, so we can see that it set the expected chunk size. \n",
    "\n",
    "Later, we will discuss how to pick the best chunk_size and overlap.\n",
    "\n",
    "For now, the selections show above 1500, 150 are reasonable default values. "
   ]
  },
  {
   "cell_type": "code",
   "execution_count": null,
   "id": "4a4b31e0",
   "metadata": {},
   "outputs": [],
   "source": [
    "splits[0]"
   ]
  }
 ],
 "metadata": {
  "kernelspec": {
   "display_name": "Python 3 (ipykernel)",
   "language": "python",
   "name": "python3"
  },
  "language_info": {
   "codemirror_mode": {
    "name": "ipython",
    "version": 3
   },
   "file_extension": ".py",
   "mimetype": "text/x-python",
   "name": "python",
   "nbconvert_exporter": "python",
   "pygments_lexer": "ipython3",
   "version": "3.9.16"
  }
 },
 "nbformat": 4,
 "nbformat_minor": 5
}
