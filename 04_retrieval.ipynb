{
 "cells": [
  {
   "cell_type": "markdown",
   "id": "ed2569c6",
   "metadata": {},
   "source": [
    "# Retrieval\n",
    "\n",
    "Retrieval is the centerpiece of our retrieval augmented generation (RAG) flow. \n",
    "\n",
    "Given a question, we want to retrieve relevant splits.\n",
    "\n",
    "Last time, we saw that we can retrieve semantically relevant docs from our vectordb.\n",
    "\n",
    "It's worth noting that vectordb as not the only kind of tool to retrieve documents. \n",
    "\n",
    "In fact, `LangChain` has a more general [retriever abstraction](https://blog.langchain.dev/retrieval/).\n",
    "\n",
    "This includes other ways to retrieve documents, such as [TF-IDF](https://towardsdatascience.com/tf-term-frequency-idf-inverse-document-frequency-from-scratch-in-python-6c2b61b78558) or [SVMs](https://twitter.com/hwchase17/status/1647328542529843200?s=20). "
   ]
  },
  {
   "cell_type": "code",
   "execution_count": null,
   "id": "83d2e808",
   "metadata": {},
   "outputs": [],
   "source": [
    "from langchain.retrievers import SVMRetriever\n",
    "from langchain.retrievers import TFIDFRetriever\n",
    "svm_retriever = SVMRetriever.from_texts(splits,embeddings)\n",
    "tfidf_retriever = TFIDFRetriever.from_texts(splits)"
   ]
  },
  {
   "cell_type": "code",
   "execution_count": 2,
   "id": "207f7b0e",
   "metadata": {},
   "outputs": [],
   "source": [
    "from langchain.vectorstores import FAISS\n",
    "from langchain.embeddings.openai import OpenAIEmbeddings\n",
    "embd = OpenAIEmbeddings()\n",
    "vectordb = FAISS.load_local(\"docs/cs229_lecture1_faiss_index\",embd)"
   ]
  },
  {
   "cell_type": "markdown",
   "id": "c2ab3acc",
   "metadata": {},
   "source": [
    "Our vectordb also works as a retriver, of course."
   ]
  },
  {
   "cell_type": "code",
   "execution_count": 3,
   "id": "4f4dff0d",
   "metadata": {},
   "outputs": [],
   "source": [
    "vectordb_retriever=vectordb.as_retriever(k=3)"
   ]
  },
  {
   "cell_type": "code",
   "execution_count": null,
   "id": "0b1cc35f",
   "metadata": {},
   "outputs": [],
   "source": [
    "question = \"What are major topics for this class?\""
   ]
  },
  {
   "cell_type": "code",
   "execution_count": null,
   "id": "76ce1c7c",
   "metadata": {},
   "outputs": [],
   "source": [
    "docs_svm=svm_retriever.get_relevant_documents(question)\n",
    "docs_svm[0]"
   ]
  }
 ],
 "metadata": {
  "kernelspec": {
   "display_name": "Python 3 (ipykernel)",
   "language": "python",
   "name": "python3"
  },
  "language_info": {
   "codemirror_mode": {
    "name": "ipython",
    "version": 3
   },
   "file_extension": ".py",
   "mimetype": "text/x-python",
   "name": "python",
   "nbconvert_exporter": "python",
   "pygments_lexer": "ipython3",
   "version": "3.9.16"
  }
 },
 "nbformat": 4,
 "nbformat_minor": 5
}
